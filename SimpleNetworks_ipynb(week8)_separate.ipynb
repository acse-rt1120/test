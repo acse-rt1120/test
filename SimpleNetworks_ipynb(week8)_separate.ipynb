{
  "nbformat": 4,
  "nbformat_minor": 0,
  "metadata": {
    "colab": {
      "name": "SimpleNetworks.ipynb(week8)_separate",
      "provenance": [],
      "collapsed_sections": [],
      "machine_shape": "hm",
      "authorship_tag": "ABX9TyOVv6OUaABcnTzKeA5K0FzS",
      "include_colab_link": true
    },
    "kernelspec": {
      "name": "python3",
      "display_name": "Python 3"
    },
    "language_info": {
      "name": "python"
    },
    "accelerator": "GPU",
    "widgets": {
      "application/vnd.jupyter.widget-state+json": {
        "1af4b0d9717b43e4a5ac31f0d5d329ae": {
          "model_module": "@jupyter-widgets/controls",
          "model_name": "HBoxModel",
          "state": {
            "_view_name": "HBoxView",
            "_dom_classes": [],
            "_model_name": "HBoxModel",
            "_view_module": "@jupyter-widgets/controls",
            "_model_module_version": "1.5.0",
            "_view_count": null,
            "_view_module_version": "1.5.0",
            "box_style": "",
            "layout": "IPY_MODEL_28bf6bc00195421f8845a3a64087a02c",
            "_model_module": "@jupyter-widgets/controls",
            "children": [
              "IPY_MODEL_cf9eb356e8ab42eaa818286f5d6caa09",
              "IPY_MODEL_3b6cb4cb22e54399a59523fe2a1f269b"
            ]
          }
        },
        "28bf6bc00195421f8845a3a64087a02c": {
          "model_module": "@jupyter-widgets/base",
          "model_name": "LayoutModel",
          "state": {
            "_view_name": "LayoutView",
            "grid_template_rows": null,
            "right": null,
            "justify_content": null,
            "_view_module": "@jupyter-widgets/base",
            "overflow": null,
            "_model_module_version": "1.2.0",
            "_view_count": null,
            "flex_flow": null,
            "width": null,
            "min_width": null,
            "border": null,
            "align_items": null,
            "bottom": null,
            "_model_module": "@jupyter-widgets/base",
            "top": null,
            "grid_column": null,
            "overflow_y": null,
            "overflow_x": null,
            "grid_auto_flow": null,
            "grid_area": null,
            "grid_template_columns": null,
            "flex": null,
            "_model_name": "LayoutModel",
            "justify_items": null,
            "grid_row": null,
            "max_height": null,
            "align_content": null,
            "visibility": null,
            "align_self": null,
            "height": null,
            "min_height": null,
            "padding": null,
            "grid_auto_rows": null,
            "grid_gap": null,
            "max_width": null,
            "order": null,
            "_view_module_version": "1.2.0",
            "grid_template_areas": null,
            "object_position": null,
            "object_fit": null,
            "grid_auto_columns": null,
            "margin": null,
            "display": null,
            "left": null
          }
        },
        "cf9eb356e8ab42eaa818286f5d6caa09": {
          "model_module": "@jupyter-widgets/controls",
          "model_name": "FloatProgressModel",
          "state": {
            "_view_name": "ProgressView",
            "style": "IPY_MODEL_08cecde8f88c43bab3db024319b3dc20",
            "_dom_classes": [],
            "description": "",
            "_model_name": "FloatProgressModel",
            "bar_style": "success",
            "max": 9912422,
            "_view_module": "@jupyter-widgets/controls",
            "_model_module_version": "1.5.0",
            "value": 9912422,
            "_view_count": null,
            "_view_module_version": "1.5.0",
            "orientation": "horizontal",
            "min": 0,
            "description_tooltip": null,
            "_model_module": "@jupyter-widgets/controls",
            "layout": "IPY_MODEL_f1e0942d68c64ac5a2194f4308843b58"
          }
        },
        "3b6cb4cb22e54399a59523fe2a1f269b": {
          "model_module": "@jupyter-widgets/controls",
          "model_name": "HTMLModel",
          "state": {
            "_view_name": "HTMLView",
            "style": "IPY_MODEL_689349042f8748dca3b88ac5758b9ea9",
            "_dom_classes": [],
            "description": "",
            "_model_name": "HTMLModel",
            "placeholder": "​",
            "_view_module": "@jupyter-widgets/controls",
            "_model_module_version": "1.5.0",
            "value": " 9913344/? [00:00&lt;00:00, 11061252.08it/s]",
            "_view_count": null,
            "_view_module_version": "1.5.0",
            "description_tooltip": null,
            "_model_module": "@jupyter-widgets/controls",
            "layout": "IPY_MODEL_564862168fad4c85aa2b55e2c0c5e5f0"
          }
        },
        "08cecde8f88c43bab3db024319b3dc20": {
          "model_module": "@jupyter-widgets/controls",
          "model_name": "ProgressStyleModel",
          "state": {
            "_view_name": "StyleView",
            "_model_name": "ProgressStyleModel",
            "description_width": "initial",
            "_view_module": "@jupyter-widgets/base",
            "_model_module_version": "1.5.0",
            "_view_count": null,
            "_view_module_version": "1.2.0",
            "bar_color": null,
            "_model_module": "@jupyter-widgets/controls"
          }
        },
        "f1e0942d68c64ac5a2194f4308843b58": {
          "model_module": "@jupyter-widgets/base",
          "model_name": "LayoutModel",
          "state": {
            "_view_name": "LayoutView",
            "grid_template_rows": null,
            "right": null,
            "justify_content": null,
            "_view_module": "@jupyter-widgets/base",
            "overflow": null,
            "_model_module_version": "1.2.0",
            "_view_count": null,
            "flex_flow": null,
            "width": null,
            "min_width": null,
            "border": null,
            "align_items": null,
            "bottom": null,
            "_model_module": "@jupyter-widgets/base",
            "top": null,
            "grid_column": null,
            "overflow_y": null,
            "overflow_x": null,
            "grid_auto_flow": null,
            "grid_area": null,
            "grid_template_columns": null,
            "flex": null,
            "_model_name": "LayoutModel",
            "justify_items": null,
            "grid_row": null,
            "max_height": null,
            "align_content": null,
            "visibility": null,
            "align_self": null,
            "height": null,
            "min_height": null,
            "padding": null,
            "grid_auto_rows": null,
            "grid_gap": null,
            "max_width": null,
            "order": null,
            "_view_module_version": "1.2.0",
            "grid_template_areas": null,
            "object_position": null,
            "object_fit": null,
            "grid_auto_columns": null,
            "margin": null,
            "display": null,
            "left": null
          }
        },
        "689349042f8748dca3b88ac5758b9ea9": {
          "model_module": "@jupyter-widgets/controls",
          "model_name": "DescriptionStyleModel",
          "state": {
            "_view_name": "StyleView",
            "_model_name": "DescriptionStyleModel",
            "description_width": "",
            "_view_module": "@jupyter-widgets/base",
            "_model_module_version": "1.5.0",
            "_view_count": null,
            "_view_module_version": "1.2.0",
            "_model_module": "@jupyter-widgets/controls"
          }
        },
        "564862168fad4c85aa2b55e2c0c5e5f0": {
          "model_module": "@jupyter-widgets/base",
          "model_name": "LayoutModel",
          "state": {
            "_view_name": "LayoutView",
            "grid_template_rows": null,
            "right": null,
            "justify_content": null,
            "_view_module": "@jupyter-widgets/base",
            "overflow": null,
            "_model_module_version": "1.2.0",
            "_view_count": null,
            "flex_flow": null,
            "width": null,
            "min_width": null,
            "border": null,
            "align_items": null,
            "bottom": null,
            "_model_module": "@jupyter-widgets/base",
            "top": null,
            "grid_column": null,
            "overflow_y": null,
            "overflow_x": null,
            "grid_auto_flow": null,
            "grid_area": null,
            "grid_template_columns": null,
            "flex": null,
            "_model_name": "LayoutModel",
            "justify_items": null,
            "grid_row": null,
            "max_height": null,
            "align_content": null,
            "visibility": null,
            "align_self": null,
            "height": null,
            "min_height": null,
            "padding": null,
            "grid_auto_rows": null,
            "grid_gap": null,
            "max_width": null,
            "order": null,
            "_view_module_version": "1.2.0",
            "grid_template_areas": null,
            "object_position": null,
            "object_fit": null,
            "grid_auto_columns": null,
            "margin": null,
            "display": null,
            "left": null
          }
        },
        "7bdfa72cb3e84aee870ba99293b369f0": {
          "model_module": "@jupyter-widgets/controls",
          "model_name": "HBoxModel",
          "state": {
            "_view_name": "HBoxView",
            "_dom_classes": [],
            "_model_name": "HBoxModel",
            "_view_module": "@jupyter-widgets/controls",
            "_model_module_version": "1.5.0",
            "_view_count": null,
            "_view_module_version": "1.5.0",
            "box_style": "",
            "layout": "IPY_MODEL_411c7aedfba7481caf36e06369603d86",
            "_model_module": "@jupyter-widgets/controls",
            "children": [
              "IPY_MODEL_6f3045388ac5483688f1d5a104f0ed03",
              "IPY_MODEL_7a837ae1cf3c4e2d87d2011a25888b1f"
            ]
          }
        },
        "411c7aedfba7481caf36e06369603d86": {
          "model_module": "@jupyter-widgets/base",
          "model_name": "LayoutModel",
          "state": {
            "_view_name": "LayoutView",
            "grid_template_rows": null,
            "right": null,
            "justify_content": null,
            "_view_module": "@jupyter-widgets/base",
            "overflow": null,
            "_model_module_version": "1.2.0",
            "_view_count": null,
            "flex_flow": null,
            "width": null,
            "min_width": null,
            "border": null,
            "align_items": null,
            "bottom": null,
            "_model_module": "@jupyter-widgets/base",
            "top": null,
            "grid_column": null,
            "overflow_y": null,
            "overflow_x": null,
            "grid_auto_flow": null,
            "grid_area": null,
            "grid_template_columns": null,
            "flex": null,
            "_model_name": "LayoutModel",
            "justify_items": null,
            "grid_row": null,
            "max_height": null,
            "align_content": null,
            "visibility": null,
            "align_self": null,
            "height": null,
            "min_height": null,
            "padding": null,
            "grid_auto_rows": null,
            "grid_gap": null,
            "max_width": null,
            "order": null,
            "_view_module_version": "1.2.0",
            "grid_template_areas": null,
            "object_position": null,
            "object_fit": null,
            "grid_auto_columns": null,
            "margin": null,
            "display": null,
            "left": null
          }
        },
        "6f3045388ac5483688f1d5a104f0ed03": {
          "model_module": "@jupyter-widgets/controls",
          "model_name": "FloatProgressModel",
          "state": {
            "_view_name": "ProgressView",
            "style": "IPY_MODEL_ec05bb5018494e8ba0c051c4b28023ad",
            "_dom_classes": [],
            "description": "",
            "_model_name": "FloatProgressModel",
            "bar_style": "success",
            "max": 28881,
            "_view_module": "@jupyter-widgets/controls",
            "_model_module_version": "1.5.0",
            "value": 28881,
            "_view_count": null,
            "_view_module_version": "1.5.0",
            "orientation": "horizontal",
            "min": 0,
            "description_tooltip": null,
            "_model_module": "@jupyter-widgets/controls",
            "layout": "IPY_MODEL_482e4dbf6fc141a2beac860afb37e29c"
          }
        },
        "7a837ae1cf3c4e2d87d2011a25888b1f": {
          "model_module": "@jupyter-widgets/controls",
          "model_name": "HTMLModel",
          "state": {
            "_view_name": "HTMLView",
            "style": "IPY_MODEL_29ca1d7ab03e4d94bd353ce292c9bb8b",
            "_dom_classes": [],
            "description": "",
            "_model_name": "HTMLModel",
            "placeholder": "​",
            "_view_module": "@jupyter-widgets/controls",
            "_model_module_version": "1.5.0",
            "value": " 29696/? [00:01&lt;00:00, 22875.40it/s]",
            "_view_count": null,
            "_view_module_version": "1.5.0",
            "description_tooltip": null,
            "_model_module": "@jupyter-widgets/controls",
            "layout": "IPY_MODEL_fd10ebcfedd04878aefc828f9a9c9507"
          }
        },
        "ec05bb5018494e8ba0c051c4b28023ad": {
          "model_module": "@jupyter-widgets/controls",
          "model_name": "ProgressStyleModel",
          "state": {
            "_view_name": "StyleView",
            "_model_name": "ProgressStyleModel",
            "description_width": "initial",
            "_view_module": "@jupyter-widgets/base",
            "_model_module_version": "1.5.0",
            "_view_count": null,
            "_view_module_version": "1.2.0",
            "bar_color": null,
            "_model_module": "@jupyter-widgets/controls"
          }
        },
        "482e4dbf6fc141a2beac860afb37e29c": {
          "model_module": "@jupyter-widgets/base",
          "model_name": "LayoutModel",
          "state": {
            "_view_name": "LayoutView",
            "grid_template_rows": null,
            "right": null,
            "justify_content": null,
            "_view_module": "@jupyter-widgets/base",
            "overflow": null,
            "_model_module_version": "1.2.0",
            "_view_count": null,
            "flex_flow": null,
            "width": null,
            "min_width": null,
            "border": null,
            "align_items": null,
            "bottom": null,
            "_model_module": "@jupyter-widgets/base",
            "top": null,
            "grid_column": null,
            "overflow_y": null,
            "overflow_x": null,
            "grid_auto_flow": null,
            "grid_area": null,
            "grid_template_columns": null,
            "flex": null,
            "_model_name": "LayoutModel",
            "justify_items": null,
            "grid_row": null,
            "max_height": null,
            "align_content": null,
            "visibility": null,
            "align_self": null,
            "height": null,
            "min_height": null,
            "padding": null,
            "grid_auto_rows": null,
            "grid_gap": null,
            "max_width": null,
            "order": null,
            "_view_module_version": "1.2.0",
            "grid_template_areas": null,
            "object_position": null,
            "object_fit": null,
            "grid_auto_columns": null,
            "margin": null,
            "display": null,
            "left": null
          }
        },
        "29ca1d7ab03e4d94bd353ce292c9bb8b": {
          "model_module": "@jupyter-widgets/controls",
          "model_name": "DescriptionStyleModel",
          "state": {
            "_view_name": "StyleView",
            "_model_name": "DescriptionStyleModel",
            "description_width": "",
            "_view_module": "@jupyter-widgets/base",
            "_model_module_version": "1.5.0",
            "_view_count": null,
            "_view_module_version": "1.2.0",
            "_model_module": "@jupyter-widgets/controls"
          }
        },
        "fd10ebcfedd04878aefc828f9a9c9507": {
          "model_module": "@jupyter-widgets/base",
          "model_name": "LayoutModel",
          "state": {
            "_view_name": "LayoutView",
            "grid_template_rows": null,
            "right": null,
            "justify_content": null,
            "_view_module": "@jupyter-widgets/base",
            "overflow": null,
            "_model_module_version": "1.2.0",
            "_view_count": null,
            "flex_flow": null,
            "width": null,
            "min_width": null,
            "border": null,
            "align_items": null,
            "bottom": null,
            "_model_module": "@jupyter-widgets/base",
            "top": null,
            "grid_column": null,
            "overflow_y": null,
            "overflow_x": null,
            "grid_auto_flow": null,
            "grid_area": null,
            "grid_template_columns": null,
            "flex": null,
            "_model_name": "LayoutModel",
            "justify_items": null,
            "grid_row": null,
            "max_height": null,
            "align_content": null,
            "visibility": null,
            "align_self": null,
            "height": null,
            "min_height": null,
            "padding": null,
            "grid_auto_rows": null,
            "grid_gap": null,
            "max_width": null,
            "order": null,
            "_view_module_version": "1.2.0",
            "grid_template_areas": null,
            "object_position": null,
            "object_fit": null,
            "grid_auto_columns": null,
            "margin": null,
            "display": null,
            "left": null
          }
        },
        "abdff1c8a6774a4981185c711838b4bf": {
          "model_module": "@jupyter-widgets/controls",
          "model_name": "HBoxModel",
          "state": {
            "_view_name": "HBoxView",
            "_dom_classes": [],
            "_model_name": "HBoxModel",
            "_view_module": "@jupyter-widgets/controls",
            "_model_module_version": "1.5.0",
            "_view_count": null,
            "_view_module_version": "1.5.0",
            "box_style": "",
            "layout": "IPY_MODEL_e5a2e17b3a2a405d8598057f04bf628e",
            "_model_module": "@jupyter-widgets/controls",
            "children": [
              "IPY_MODEL_764bc5e7a2fa4a3b8497028f683b7c1e",
              "IPY_MODEL_86608e55c8424851993946f95d9fa75c"
            ]
          }
        },
        "e5a2e17b3a2a405d8598057f04bf628e": {
          "model_module": "@jupyter-widgets/base",
          "model_name": "LayoutModel",
          "state": {
            "_view_name": "LayoutView",
            "grid_template_rows": null,
            "right": null,
            "justify_content": null,
            "_view_module": "@jupyter-widgets/base",
            "overflow": null,
            "_model_module_version": "1.2.0",
            "_view_count": null,
            "flex_flow": null,
            "width": null,
            "min_width": null,
            "border": null,
            "align_items": null,
            "bottom": null,
            "_model_module": "@jupyter-widgets/base",
            "top": null,
            "grid_column": null,
            "overflow_y": null,
            "overflow_x": null,
            "grid_auto_flow": null,
            "grid_area": null,
            "grid_template_columns": null,
            "flex": null,
            "_model_name": "LayoutModel",
            "justify_items": null,
            "grid_row": null,
            "max_height": null,
            "align_content": null,
            "visibility": null,
            "align_self": null,
            "height": null,
            "min_height": null,
            "padding": null,
            "grid_auto_rows": null,
            "grid_gap": null,
            "max_width": null,
            "order": null,
            "_view_module_version": "1.2.0",
            "grid_template_areas": null,
            "object_position": null,
            "object_fit": null,
            "grid_auto_columns": null,
            "margin": null,
            "display": null,
            "left": null
          }
        },
        "764bc5e7a2fa4a3b8497028f683b7c1e": {
          "model_module": "@jupyter-widgets/controls",
          "model_name": "FloatProgressModel",
          "state": {
            "_view_name": "ProgressView",
            "style": "IPY_MODEL_1665f177b4364d549f3b95a62a0cce5c",
            "_dom_classes": [],
            "description": "",
            "_model_name": "FloatProgressModel",
            "bar_style": "success",
            "max": 1648877,
            "_view_module": "@jupyter-widgets/controls",
            "_model_module_version": "1.5.0",
            "value": 1648877,
            "_view_count": null,
            "_view_module_version": "1.5.0",
            "orientation": "horizontal",
            "min": 0,
            "description_tooltip": null,
            "_model_module": "@jupyter-widgets/controls",
            "layout": "IPY_MODEL_a6ffe179d82c4ab38c834599c05dca2f"
          }
        },
        "86608e55c8424851993946f95d9fa75c": {
          "model_module": "@jupyter-widgets/controls",
          "model_name": "HTMLModel",
          "state": {
            "_view_name": "HTMLView",
            "style": "IPY_MODEL_4c19b4751d994901860c4b0f04fdc148",
            "_dom_classes": [],
            "description": "",
            "_model_name": "HTMLModel",
            "placeholder": "​",
            "_view_module": "@jupyter-widgets/controls",
            "_model_module_version": "1.5.0",
            "value": " 1649664/? [00:00&lt;00:00, 2855656.27it/s]",
            "_view_count": null,
            "_view_module_version": "1.5.0",
            "description_tooltip": null,
            "_model_module": "@jupyter-widgets/controls",
            "layout": "IPY_MODEL_93daab6f72a64b28a45f7c645a4df020"
          }
        },
        "1665f177b4364d549f3b95a62a0cce5c": {
          "model_module": "@jupyter-widgets/controls",
          "model_name": "ProgressStyleModel",
          "state": {
            "_view_name": "StyleView",
            "_model_name": "ProgressStyleModel",
            "description_width": "initial",
            "_view_module": "@jupyter-widgets/base",
            "_model_module_version": "1.5.0",
            "_view_count": null,
            "_view_module_version": "1.2.0",
            "bar_color": null,
            "_model_module": "@jupyter-widgets/controls"
          }
        },
        "a6ffe179d82c4ab38c834599c05dca2f": {
          "model_module": "@jupyter-widgets/base",
          "model_name": "LayoutModel",
          "state": {
            "_view_name": "LayoutView",
            "grid_template_rows": null,
            "right": null,
            "justify_content": null,
            "_view_module": "@jupyter-widgets/base",
            "overflow": null,
            "_model_module_version": "1.2.0",
            "_view_count": null,
            "flex_flow": null,
            "width": null,
            "min_width": null,
            "border": null,
            "align_items": null,
            "bottom": null,
            "_model_module": "@jupyter-widgets/base",
            "top": null,
            "grid_column": null,
            "overflow_y": null,
            "overflow_x": null,
            "grid_auto_flow": null,
            "grid_area": null,
            "grid_template_columns": null,
            "flex": null,
            "_model_name": "LayoutModel",
            "justify_items": null,
            "grid_row": null,
            "max_height": null,
            "align_content": null,
            "visibility": null,
            "align_self": null,
            "height": null,
            "min_height": null,
            "padding": null,
            "grid_auto_rows": null,
            "grid_gap": null,
            "max_width": null,
            "order": null,
            "_view_module_version": "1.2.0",
            "grid_template_areas": null,
            "object_position": null,
            "object_fit": null,
            "grid_auto_columns": null,
            "margin": null,
            "display": null,
            "left": null
          }
        },
        "4c19b4751d994901860c4b0f04fdc148": {
          "model_module": "@jupyter-widgets/controls",
          "model_name": "DescriptionStyleModel",
          "state": {
            "_view_name": "StyleView",
            "_model_name": "DescriptionStyleModel",
            "description_width": "",
            "_view_module": "@jupyter-widgets/base",
            "_model_module_version": "1.5.0",
            "_view_count": null,
            "_view_module_version": "1.2.0",
            "_model_module": "@jupyter-widgets/controls"
          }
        },
        "93daab6f72a64b28a45f7c645a4df020": {
          "model_module": "@jupyter-widgets/base",
          "model_name": "LayoutModel",
          "state": {
            "_view_name": "LayoutView",
            "grid_template_rows": null,
            "right": null,
            "justify_content": null,
            "_view_module": "@jupyter-widgets/base",
            "overflow": null,
            "_model_module_version": "1.2.0",
            "_view_count": null,
            "flex_flow": null,
            "width": null,
            "min_width": null,
            "border": null,
            "align_items": null,
            "bottom": null,
            "_model_module": "@jupyter-widgets/base",
            "top": null,
            "grid_column": null,
            "overflow_y": null,
            "overflow_x": null,
            "grid_auto_flow": null,
            "grid_area": null,
            "grid_template_columns": null,
            "flex": null,
            "_model_name": "LayoutModel",
            "justify_items": null,
            "grid_row": null,
            "max_height": null,
            "align_content": null,
            "visibility": null,
            "align_self": null,
            "height": null,
            "min_height": null,
            "padding": null,
            "grid_auto_rows": null,
            "grid_gap": null,
            "max_width": null,
            "order": null,
            "_view_module_version": "1.2.0",
            "grid_template_areas": null,
            "object_position": null,
            "object_fit": null,
            "grid_auto_columns": null,
            "margin": null,
            "display": null,
            "left": null
          }
        },
        "9061c7424f7a4084b4502779fcb9d140": {
          "model_module": "@jupyter-widgets/controls",
          "model_name": "HBoxModel",
          "state": {
            "_view_name": "HBoxView",
            "_dom_classes": [],
            "_model_name": "HBoxModel",
            "_view_module": "@jupyter-widgets/controls",
            "_model_module_version": "1.5.0",
            "_view_count": null,
            "_view_module_version": "1.5.0",
            "box_style": "",
            "layout": "IPY_MODEL_08e096b9bb7046f99e9d167a0ceb5b59",
            "_model_module": "@jupyter-widgets/controls",
            "children": [
              "IPY_MODEL_730298e68b4f4e4687e5a31d771249a8",
              "IPY_MODEL_dcaa5f317ae648668488b5718a1b43ec"
            ]
          }
        },
        "08e096b9bb7046f99e9d167a0ceb5b59": {
          "model_module": "@jupyter-widgets/base",
          "model_name": "LayoutModel",
          "state": {
            "_view_name": "LayoutView",
            "grid_template_rows": null,
            "right": null,
            "justify_content": null,
            "_view_module": "@jupyter-widgets/base",
            "overflow": null,
            "_model_module_version": "1.2.0",
            "_view_count": null,
            "flex_flow": null,
            "width": null,
            "min_width": null,
            "border": null,
            "align_items": null,
            "bottom": null,
            "_model_module": "@jupyter-widgets/base",
            "top": null,
            "grid_column": null,
            "overflow_y": null,
            "overflow_x": null,
            "grid_auto_flow": null,
            "grid_area": null,
            "grid_template_columns": null,
            "flex": null,
            "_model_name": "LayoutModel",
            "justify_items": null,
            "grid_row": null,
            "max_height": null,
            "align_content": null,
            "visibility": null,
            "align_self": null,
            "height": null,
            "min_height": null,
            "padding": null,
            "grid_auto_rows": null,
            "grid_gap": null,
            "max_width": null,
            "order": null,
            "_view_module_version": "1.2.0",
            "grid_template_areas": null,
            "object_position": null,
            "object_fit": null,
            "grid_auto_columns": null,
            "margin": null,
            "display": null,
            "left": null
          }
        },
        "730298e68b4f4e4687e5a31d771249a8": {
          "model_module": "@jupyter-widgets/controls",
          "model_name": "FloatProgressModel",
          "state": {
            "_view_name": "ProgressView",
            "style": "IPY_MODEL_d47cc96670524126a2d5b9d3ddc354c4",
            "_dom_classes": [],
            "description": "",
            "_model_name": "FloatProgressModel",
            "bar_style": "success",
            "max": 4542,
            "_view_module": "@jupyter-widgets/controls",
            "_model_module_version": "1.5.0",
            "value": 4542,
            "_view_count": null,
            "_view_module_version": "1.5.0",
            "orientation": "horizontal",
            "min": 0,
            "description_tooltip": null,
            "_model_module": "@jupyter-widgets/controls",
            "layout": "IPY_MODEL_7d305812ed244787bddb9c15e8ec92bd"
          }
        },
        "dcaa5f317ae648668488b5718a1b43ec": {
          "model_module": "@jupyter-widgets/controls",
          "model_name": "HTMLModel",
          "state": {
            "_view_name": "HTMLView",
            "style": "IPY_MODEL_b066f47d040044039f4a38d43b18cdf0",
            "_dom_classes": [],
            "description": "",
            "_model_name": "HTMLModel",
            "placeholder": "​",
            "_view_module": "@jupyter-widgets/controls",
            "_model_module_version": "1.5.0",
            "value": " 5120/? [00:00&lt;00:00, 35811.15it/s]",
            "_view_count": null,
            "_view_module_version": "1.5.0",
            "description_tooltip": null,
            "_model_module": "@jupyter-widgets/controls",
            "layout": "IPY_MODEL_8c0fd814c4a0443b8f8f8c64978a7083"
          }
        },
        "d47cc96670524126a2d5b9d3ddc354c4": {
          "model_module": "@jupyter-widgets/controls",
          "model_name": "ProgressStyleModel",
          "state": {
            "_view_name": "StyleView",
            "_model_name": "ProgressStyleModel",
            "description_width": "initial",
            "_view_module": "@jupyter-widgets/base",
            "_model_module_version": "1.5.0",
            "_view_count": null,
            "_view_module_version": "1.2.0",
            "bar_color": null,
            "_model_module": "@jupyter-widgets/controls"
          }
        },
        "7d305812ed244787bddb9c15e8ec92bd": {
          "model_module": "@jupyter-widgets/base",
          "model_name": "LayoutModel",
          "state": {
            "_view_name": "LayoutView",
            "grid_template_rows": null,
            "right": null,
            "justify_content": null,
            "_view_module": "@jupyter-widgets/base",
            "overflow": null,
            "_model_module_version": "1.2.0",
            "_view_count": null,
            "flex_flow": null,
            "width": null,
            "min_width": null,
            "border": null,
            "align_items": null,
            "bottom": null,
            "_model_module": "@jupyter-widgets/base",
            "top": null,
            "grid_column": null,
            "overflow_y": null,
            "overflow_x": null,
            "grid_auto_flow": null,
            "grid_area": null,
            "grid_template_columns": null,
            "flex": null,
            "_model_name": "LayoutModel",
            "justify_items": null,
            "grid_row": null,
            "max_height": null,
            "align_content": null,
            "visibility": null,
            "align_self": null,
            "height": null,
            "min_height": null,
            "padding": null,
            "grid_auto_rows": null,
            "grid_gap": null,
            "max_width": null,
            "order": null,
            "_view_module_version": "1.2.0",
            "grid_template_areas": null,
            "object_position": null,
            "object_fit": null,
            "grid_auto_columns": null,
            "margin": null,
            "display": null,
            "left": null
          }
        },
        "b066f47d040044039f4a38d43b18cdf0": {
          "model_module": "@jupyter-widgets/controls",
          "model_name": "DescriptionStyleModel",
          "state": {
            "_view_name": "StyleView",
            "_model_name": "DescriptionStyleModel",
            "description_width": "",
            "_view_module": "@jupyter-widgets/base",
            "_model_module_version": "1.5.0",
            "_view_count": null,
            "_view_module_version": "1.2.0",
            "_model_module": "@jupyter-widgets/controls"
          }
        },
        "8c0fd814c4a0443b8f8f8c64978a7083": {
          "model_module": "@jupyter-widgets/base",
          "model_name": "LayoutModel",
          "state": {
            "_view_name": "LayoutView",
            "grid_template_rows": null,
            "right": null,
            "justify_content": null,
            "_view_module": "@jupyter-widgets/base",
            "overflow": null,
            "_model_module_version": "1.2.0",
            "_view_count": null,
            "flex_flow": null,
            "width": null,
            "min_width": null,
            "border": null,
            "align_items": null,
            "bottom": null,
            "_model_module": "@jupyter-widgets/base",
            "top": null,
            "grid_column": null,
            "overflow_y": null,
            "overflow_x": null,
            "grid_auto_flow": null,
            "grid_area": null,
            "grid_template_columns": null,
            "flex": null,
            "_model_name": "LayoutModel",
            "justify_items": null,
            "grid_row": null,
            "max_height": null,
            "align_content": null,
            "visibility": null,
            "align_self": null,
            "height": null,
            "min_height": null,
            "padding": null,
            "grid_auto_rows": null,
            "grid_gap": null,
            "max_width": null,
            "order": null,
            "_view_module_version": "1.2.0",
            "grid_template_areas": null,
            "object_position": null,
            "object_fit": null,
            "grid_auto_columns": null,
            "margin": null,
            "display": null,
            "left": null
          }
        }
      }
    }
  },
  "cells": [
    {
      "cell_type": "markdown",
      "metadata": {
        "id": "view-in-github",
        "colab_type": "text"
      },
      "source": [
        "<a href=\"https://colab.research.google.com/github/acse-rt1120/test/blob/main/SimpleNetworks_ipynb(week8)_separate.ipynb\" target=\"_parent\"><img src=\"https://colab.research.google.com/assets/colab-badge.svg\" alt=\"Open In Colab\"/></a>"
      ]
    },
    {
      "cell_type": "code",
      "metadata": {
        "colab": {
          "base_uri": "https://localhost:8080/"
        },
        "id": "-0x-jQ-5ODS4",
        "outputId": "704848e0-e0b1-4035-afb9-5174cee96c02"
      },
      "source": [
        "from google.colab import drive\n",
        "drive.mount('/content/drive')"
      ],
      "execution_count": 1,
      "outputs": [
        {
          "output_type": "stream",
          "text": [
            "Mounted at /content/drive\n"
          ],
          "name": "stdout"
        }
      ]
    },
    {
      "cell_type": "code",
      "metadata": {
        "colab": {
          "base_uri": "https://localhost:8080/"
        },
        "id": "0BCOWmCBRQ_M",
        "outputId": "4b214d10-7e1f-4cf0-ff6e-151b06baecc1"
      },
      "source": [
        "!pip install pycm livelossplot\n",
        "%pylab inline\n",
        "from sklearn.metrics import accuracy_score\n",
        "from sklearn.model_selection import StratifiedShuffleSplit\n",
        "\n",
        "from livelossplot import PlotLosses\n",
        "from pycm import *\n",
        "\n",
        "import torch\n",
        "import torch.nn as nn\n",
        "import torch.nn.functional as F\n",
        "from torch.utils.data import TensorDataset, DataLoader\n",
        "import torchvision.transforms as transforms\n",
        "from torchvision.datasets import MNIST"
      ],
      "execution_count": 2,
      "outputs": [
        {
          "output_type": "stream",
          "text": [
            "Collecting pycm\n",
            "\u001b[?25l  Downloading https://files.pythonhosted.org/packages/76/c4/a05b90819dcf7e50bdddb030238a771bf87b0695e6c47a247f66ab7ed5d0/pycm-3.1-py2.py3-none-any.whl (63kB)\n",
            "\u001b[K     |████████████████████████████████| 71kB 4.0MB/s \n",
            "\u001b[?25hCollecting livelossplot\n",
            "  Downloading https://files.pythonhosted.org/packages/57/26/840be243088ce142d61c60273408ec09fa1de4534056a56d6e91b73f0cae/livelossplot-0.5.4-py3-none-any.whl\n",
            "Collecting art>=1.8\n",
            "\u001b[?25l  Downloading https://files.pythonhosted.org/packages/a1/74/55552eaad673dc81546d1386161e6cd8f7edf951690de82df822fe46541d/art-5.2-py2.py3-none-any.whl (571kB)\n",
            "\u001b[K     |████████████████████████████████| 573kB 26.9MB/s \n",
            "\u001b[?25hRequirement already satisfied: numpy>=1.9.0 in /usr/local/lib/python3.7/dist-packages (from pycm) (1.19.5)\n",
            "Requirement already satisfied: bokeh in /usr/local/lib/python3.7/dist-packages (from livelossplot) (2.3.3)\n",
            "Requirement already satisfied: ipython in /usr/local/lib/python3.7/dist-packages (from livelossplot) (5.5.0)\n",
            "Requirement already satisfied: matplotlib in /usr/local/lib/python3.7/dist-packages (from livelossplot) (3.2.2)\n",
            "Requirement already satisfied: PyYAML>=3.10 in /usr/local/lib/python3.7/dist-packages (from bokeh->livelossplot) (3.13)\n",
            "Requirement already satisfied: typing-extensions>=3.7.4 in /usr/local/lib/python3.7/dist-packages (from bokeh->livelossplot) (3.7.4.3)\n",
            "Requirement already satisfied: Jinja2>=2.9 in /usr/local/lib/python3.7/dist-packages (from bokeh->livelossplot) (2.11.3)\n",
            "Requirement already satisfied: python-dateutil>=2.1 in /usr/local/lib/python3.7/dist-packages (from bokeh->livelossplot) (2.8.1)\n",
            "Requirement already satisfied: tornado>=5.1 in /usr/local/lib/python3.7/dist-packages (from bokeh->livelossplot) (5.1.1)\n",
            "Requirement already satisfied: packaging>=16.8 in /usr/local/lib/python3.7/dist-packages (from bokeh->livelossplot) (21.0)\n",
            "Requirement already satisfied: pillow>=7.1.0 in /usr/local/lib/python3.7/dist-packages (from bokeh->livelossplot) (7.1.2)\n",
            "Requirement already satisfied: prompt-toolkit<2.0.0,>=1.0.4 in /usr/local/lib/python3.7/dist-packages (from ipython->livelossplot) (1.0.18)\n",
            "Requirement already satisfied: decorator in /usr/local/lib/python3.7/dist-packages (from ipython->livelossplot) (4.4.2)\n",
            "Requirement already satisfied: traitlets>=4.2 in /usr/local/lib/python3.7/dist-packages (from ipython->livelossplot) (5.0.5)\n",
            "Requirement already satisfied: simplegeneric>0.8 in /usr/local/lib/python3.7/dist-packages (from ipython->livelossplot) (0.8.1)\n",
            "Requirement already satisfied: pygments in /usr/local/lib/python3.7/dist-packages (from ipython->livelossplot) (2.6.1)\n",
            "Requirement already satisfied: setuptools>=18.5 in /usr/local/lib/python3.7/dist-packages (from ipython->livelossplot) (57.2.0)\n",
            "Requirement already satisfied: pexpect; sys_platform != \"win32\" in /usr/local/lib/python3.7/dist-packages (from ipython->livelossplot) (4.8.0)\n",
            "Requirement already satisfied: pickleshare in /usr/local/lib/python3.7/dist-packages (from ipython->livelossplot) (0.7.5)\n",
            "Requirement already satisfied: kiwisolver>=1.0.1 in /usr/local/lib/python3.7/dist-packages (from matplotlib->livelossplot) (1.3.1)\n",
            "Requirement already satisfied: pyparsing!=2.0.4,!=2.1.2,!=2.1.6,>=2.0.1 in /usr/local/lib/python3.7/dist-packages (from matplotlib->livelossplot) (2.4.7)\n",
            "Requirement already satisfied: cycler>=0.10 in /usr/local/lib/python3.7/dist-packages (from matplotlib->livelossplot) (0.10.0)\n",
            "Requirement already satisfied: MarkupSafe>=0.23 in /usr/local/lib/python3.7/dist-packages (from Jinja2>=2.9->bokeh->livelossplot) (2.0.1)\n",
            "Requirement already satisfied: six>=1.5 in /usr/local/lib/python3.7/dist-packages (from python-dateutil>=2.1->bokeh->livelossplot) (1.15.0)\n",
            "Requirement already satisfied: wcwidth in /usr/local/lib/python3.7/dist-packages (from prompt-toolkit<2.0.0,>=1.0.4->ipython->livelossplot) (0.2.5)\n",
            "Requirement already satisfied: ipython-genutils in /usr/local/lib/python3.7/dist-packages (from traitlets>=4.2->ipython->livelossplot) (0.2.0)\n",
            "Requirement already satisfied: ptyprocess>=0.5 in /usr/local/lib/python3.7/dist-packages (from pexpect; sys_platform != \"win32\"->ipython->livelossplot) (0.7.0)\n",
            "Installing collected packages: art, pycm, livelossplot\n",
            "Successfully installed art-5.2 livelossplot-0.5.4 pycm-3.1\n",
            "Populating the interactive namespace from numpy and matplotlib\n"
          ],
          "name": "stdout"
        }
      ]
    },
    {
      "cell_type": "code",
      "metadata": {
        "colab": {
          "base_uri": "https://localhost:8080/"
        },
        "id": "AmfLvZ2sOJbi",
        "outputId": "aae328ef-9e6e-49fb-e476-8d5459bd1837"
      },
      "source": [
        "import torch  # Pytorch\n",
        "import torch.nn as nn  # Neural network module\n",
        "import torch.nn.functional as fn  # Function module\n",
        "from torchvision import datasets  # Datasets from torchvision\n",
        "from torchvision import transforms  # Transforms from torchvision\n",
        "\n",
        "import matplotlib.pyplot as plt  # Plotting using matplotlib\n",
        "import numpy as np  # Numpy\n",
        "from numpy import linalg\n",
        "device = 'cuda'  # Set out device to GPU\n",
        "\n",
        "print('done')  # Let me know this cell has finished"
      ],
      "execution_count": 3,
      "outputs": [
        {
          "output_type": "stream",
          "text": [
            "done\n"
          ],
          "name": "stdout"
        }
      ]
    },
    {
      "cell_type": "code",
      "metadata": {
        "colab": {
          "base_uri": "https://localhost:8080/"
        },
        "id": "AlGyDpeGStbc",
        "outputId": "6771383a-b0e8-4327-9688-fac4083efcf9"
      },
      "source": [
        "def set_seed(seed):\n",
        "    \"\"\"\n",
        "    Use this to set ALL the random seeds to a fixed value and take out any randomness from cuda kernels\n",
        "    \"\"\"\n",
        "    random.seed(seed)\n",
        "    np.random.seed(seed)\n",
        "    torch.manual_seed(seed)\n",
        "    torch.cuda.manual_seed_all(seed)\n",
        "\n",
        "    torch.backends.cudnn.benchmark = False  ##uses the inbuilt cudnn auto-tuner to find the fastest convolution algorithms. -\n",
        "    torch.backends.cudnn.enabled   = False\n",
        "\n",
        "    return True\n",
        "\n",
        "device = 'cpu'\n",
        "if torch.cuda.device_count() > 0 and torch.cuda.is_available():\n",
        "    print(\"Cuda installed! Running on GPU!\")\n",
        "    device = 'cuda'\n",
        "else:\n",
        "    print(\"No GPU available!\")"
      ],
      "execution_count": 4,
      "outputs": [
        {
          "output_type": "stream",
          "text": [
            "Cuda installed! Running on GPU!\n"
          ],
          "name": "stdout"
        }
      ]
    },
    {
      "cell_type": "code",
      "metadata": {
        "colab": {
          "base_uri": "https://localhost:8080/",
          "height": 1000,
          "referenced_widgets": [
            "1af4b0d9717b43e4a5ac31f0d5d329ae",
            "28bf6bc00195421f8845a3a64087a02c",
            "cf9eb356e8ab42eaa818286f5d6caa09",
            "3b6cb4cb22e54399a59523fe2a1f269b",
            "08cecde8f88c43bab3db024319b3dc20",
            "f1e0942d68c64ac5a2194f4308843b58",
            "689349042f8748dca3b88ac5758b9ea9",
            "564862168fad4c85aa2b55e2c0c5e5f0",
            "7bdfa72cb3e84aee870ba99293b369f0",
            "411c7aedfba7481caf36e06369603d86",
            "6f3045388ac5483688f1d5a104f0ed03",
            "7a837ae1cf3c4e2d87d2011a25888b1f",
            "ec05bb5018494e8ba0c051c4b28023ad",
            "482e4dbf6fc141a2beac860afb37e29c",
            "29ca1d7ab03e4d94bd353ce292c9bb8b",
            "fd10ebcfedd04878aefc828f9a9c9507",
            "abdff1c8a6774a4981185c711838b4bf",
            "e5a2e17b3a2a405d8598057f04bf628e",
            "764bc5e7a2fa4a3b8497028f683b7c1e",
            "86608e55c8424851993946f95d9fa75c",
            "1665f177b4364d549f3b95a62a0cce5c",
            "a6ffe179d82c4ab38c834599c05dca2f",
            "4c19b4751d994901860c4b0f04fdc148",
            "93daab6f72a64b28a45f7c645a4df020",
            "9061c7424f7a4084b4502779fcb9d140",
            "08e096b9bb7046f99e9d167a0ceb5b59",
            "730298e68b4f4e4687e5a31d771249a8",
            "dcaa5f317ae648668488b5718a1b43ec",
            "d47cc96670524126a2d5b9d3ddc354c4",
            "7d305812ed244787bddb9c15e8ec92bd",
            "b066f47d040044039f4a38d43b18cdf0",
            "8c0fd814c4a0443b8f8f8c64978a7083"
          ]
        },
        "id": "urdxPRTEOL_L",
        "outputId": "461f38ca-5867-4670-da18-fe4baee43c11"
      },
      "source": [
        "# MNIST Test dataset and dataloader declaration\n",
        "batch_size = 64\n",
        "data = torch.utils.data.DataLoader(\n",
        "    datasets.MNIST('../data', train=True, download=True,\n",
        "                   transform=transforms.Compose([transforms.ToTensor(),])\n",
        "                   ),\n",
        "                   batch_size=batch_size, shuffle=True) # Load MNIST. Use the Data Loader to shuffle and batch images\n",
        "\n",
        "images, labels = next(iter(data)) # A trick for getting a batch out of the dataloader object\n",
        "plt.imshow(images[0].squeeze()) # Show the first image from the batch\n",
        "plt.show()\n",
        "batch_num = len(data)\n",
        "data_size = len(data)*batch_size\n",
        "print('number of batches = '+str(len(data))) # Print num batches\n",
        "print('number of images = '+str(len(data)*batch_size)) # Print num images"
      ],
      "execution_count": 5,
      "outputs": [
        {
          "output_type": "stream",
          "text": [
            "Downloading http://yann.lecun.com/exdb/mnist/train-images-idx3-ubyte.gz\n",
            "Downloading http://yann.lecun.com/exdb/mnist/train-images-idx3-ubyte.gz to ../data/MNIST/raw/train-images-idx3-ubyte.gz\n",
            "Failed to download (trying next):\n",
            "HTTP Error 503: Service Unavailable\n",
            "\n",
            "Downloading https://ossci-datasets.s3.amazonaws.com/mnist/train-images-idx3-ubyte.gz\n",
            "Downloading https://ossci-datasets.s3.amazonaws.com/mnist/train-images-idx3-ubyte.gz to ../data/MNIST/raw/train-images-idx3-ubyte.gz\n"
          ],
          "name": "stdout"
        },
        {
          "output_type": "display_data",
          "data": {
            "application/vnd.jupyter.widget-view+json": {
              "model_id": "1af4b0d9717b43e4a5ac31f0d5d329ae",
              "version_minor": 0,
              "version_major": 2
            },
            "text/plain": [
              "HBox(children=(FloatProgress(value=0.0, max=9912422.0), HTML(value='')))"
            ]
          },
          "metadata": {
            "tags": []
          }
        },
        {
          "output_type": "stream",
          "text": [
            "\n",
            "Extracting ../data/MNIST/raw/train-images-idx3-ubyte.gz to ../data/MNIST/raw\n",
            "\n",
            "Downloading http://yann.lecun.com/exdb/mnist/train-labels-idx1-ubyte.gz\n",
            "Downloading http://yann.lecun.com/exdb/mnist/train-labels-idx1-ubyte.gz to ../data/MNIST/raw/train-labels-idx1-ubyte.gz\n"
          ],
          "name": "stdout"
        },
        {
          "output_type": "display_data",
          "data": {
            "application/vnd.jupyter.widget-view+json": {
              "model_id": "7bdfa72cb3e84aee870ba99293b369f0",
              "version_minor": 0,
              "version_major": 2
            },
            "text/plain": [
              "HBox(children=(FloatProgress(value=0.0, max=28881.0), HTML(value='')))"
            ]
          },
          "metadata": {
            "tags": []
          }
        },
        {
          "output_type": "stream",
          "text": [
            "\n",
            "Extracting ../data/MNIST/raw/train-labels-idx1-ubyte.gz to ../data/MNIST/raw\n",
            "\n",
            "Downloading http://yann.lecun.com/exdb/mnist/t10k-images-idx3-ubyte.gz\n",
            "Downloading http://yann.lecun.com/exdb/mnist/t10k-images-idx3-ubyte.gz to ../data/MNIST/raw/t10k-images-idx3-ubyte.gz\n",
            "Failed to download (trying next):\n",
            "HTTP Error 503: Service Unavailable\n",
            "\n",
            "Downloading https://ossci-datasets.s3.amazonaws.com/mnist/t10k-images-idx3-ubyte.gz\n",
            "Downloading https://ossci-datasets.s3.amazonaws.com/mnist/t10k-images-idx3-ubyte.gz to ../data/MNIST/raw/t10k-images-idx3-ubyte.gz\n"
          ],
          "name": "stdout"
        },
        {
          "output_type": "display_data",
          "data": {
            "application/vnd.jupyter.widget-view+json": {
              "model_id": "abdff1c8a6774a4981185c711838b4bf",
              "version_minor": 0,
              "version_major": 2
            },
            "text/plain": [
              "HBox(children=(FloatProgress(value=0.0, max=1648877.0), HTML(value='')))"
            ]
          },
          "metadata": {
            "tags": []
          }
        },
        {
          "output_type": "stream",
          "text": [
            "\n",
            "Extracting ../data/MNIST/raw/t10k-images-idx3-ubyte.gz to ../data/MNIST/raw\n",
            "\n",
            "Downloading http://yann.lecun.com/exdb/mnist/t10k-labels-idx1-ubyte.gz\n",
            "Downloading http://yann.lecun.com/exdb/mnist/t10k-labels-idx1-ubyte.gz to ../data/MNIST/raw/t10k-labels-idx1-ubyte.gz\n"
          ],
          "name": "stdout"
        },
        {
          "output_type": "display_data",
          "data": {
            "application/vnd.jupyter.widget-view+json": {
              "model_id": "9061c7424f7a4084b4502779fcb9d140",
              "version_minor": 0,
              "version_major": 2
            },
            "text/plain": [
              "HBox(children=(FloatProgress(value=0.0, max=4542.0), HTML(value='')))"
            ]
          },
          "metadata": {
            "tags": []
          }
        },
        {
          "output_type": "stream",
          "text": [
            "\n",
            "Extracting ../data/MNIST/raw/t10k-labels-idx1-ubyte.gz to ../data/MNIST/raw\n",
            "\n"
          ],
          "name": "stdout"
        },
        {
          "output_type": "stream",
          "text": [
            "/usr/local/lib/python3.7/dist-packages/torchvision/datasets/mnist.py:498: UserWarning: The given NumPy array is not writeable, and PyTorch does not support non-writeable tensors. This means you can write to the underlying (supposedly non-writeable) NumPy array using the tensor. You may want to copy the array to protect its data or make it writeable before converting it to a tensor. This type of warning will be suppressed for the rest of this program. (Triggered internally at  /pytorch/torch/csrc/utils/tensor_numpy.cpp:180.)\n",
            "  return torch.from_numpy(parsed.astype(m[2], copy=False)).view(*s)\n"
          ],
          "name": "stderr"
        },
        {
          "output_type": "display_data",
          "data": {
            "image/png": "[encoded data removed]",
            "text/plain": [
              "<Figure size 432x288 with 1 Axes>"
            ]
          },
          "metadata": {
            "tags": [],
            "needs_background": "light"
          }
        },
        {
          "output_type": "stream",
          "text": [
            "number of batches = 938\n",
            "number of images = 60032\n"
          ],
          "name": "stdout"
        }
      ]
    },
    {
      "cell_type": "markdown",
      "metadata": {
        "id": "bXN6Ayp-O1FL"
      },
      "source": [
        "SimpleNet\n",
        "\n",
        "Create a simple feed-forward neural network with the following architecture:\n",
        "- Input Layer: 28*28 neurons\n",
        "- Hidden Layer: 25 neurons\n",
        "- Output Layer: 10 neurons\n",
        "- Hidden Layer Activation: ReLU\n",
        "- Output Layer Activation: None"
      ]
    },
    {
      "cell_type": "code",
      "metadata": {
        "id": "ZWxKKKcIO0Aq"
      },
      "source": [
        "class SimpleNet(nn.Module):\n",
        "    def __init__(self):\n",
        "        super(SimpleNet, self).__init__()\n",
        "        # use nn.Linear and nn.Relu to define your layers and activations\n",
        "        self.hidden_1 = nn.Linear(28*28,25)\n",
        "        self.output = nn.Linear(25,10)\n",
        "        self.hidden_activation = nn.ReLU()\n",
        "        self.output_activation = None\n",
        "    def forward(self, x):\n",
        "        # code your forward pass using the layers and activations above\n",
        "        z1 = self.hidden_1(x)\n",
        "        a1 = self.hidden_activation(z1)\n",
        "        z2 = self.output(a1)\n",
        "\n",
        "        return z2   # return z2 (not a2, we will see this later)"
      ],
      "execution_count": 6,
      "outputs": []
    },
    {
      "cell_type": "markdown",
      "metadata": {
        "id": "zNdunx-1V_BT"
      },
      "source": [
        "train with SGD"
      ]
    },
    {
      "cell_type": "code",
      "metadata": {
        "id": "v14vEq0VPGny"
      },
      "source": [
        "seed = 42\n",
        "lr = 1e-2\n",
        "momentum = 0.5\n",
        "n_epochs = 30\n",
        "\n",
        "set_seed(seed)\n",
        "model = SimpleNet().to(device)\n",
        "optimizer = torch.optim.SGD(model.parameters(), lr=lr, momentum=momentum)\n",
        "criterion = nn.CrossEntropyLoss()\n",
        "\n",
        "liveloss = PlotLosses()"
      ],
      "execution_count": 56,
      "outputs": []
    },
    {
      "cell_type": "code",
      "metadata": {
        "id": "uTnXUbQkPAh0"
      },
      "source": [
        "def train(model, optimizer, criterion, data_loader):\n",
        "    # set the model in training mode so the parameters(weights)to be optimised will be updated\n",
        "    model.train()\n",
        "    train_loss, train_accuracy = 0, 0 # initialise loss and accuracy to 0 for training\n",
        "    run_in_batch = 0\n",
        "    for X, y in data_loader:              # iterate over the mini-batches defined in the data loader\n",
        "        X, y = X.to(device), y.to(device) # send data to the device (GPU in our case)\n",
        "        # resetting optimiser info\n",
        "        optimizer.zero_grad()\n",
        "        # forward pass\n",
        "        a2 = model(X.view(-1, 28*28))\n",
        "        #print(a2, y)\n",
        "        # compute loss\n",
        "        loss = criterion(a2, y)\n",
        "        # backpropagation to calculate the gradients\n",
        "        loss.backward()\n",
        "        train_loss += loss*X.size(0)  # add it up for different mini-batches and undo loss normalisation\n",
        "        # get y_pred (predictions)\n",
        "        y_pred = F.log_softmax(a2, dim=1).max(1)[1]\n",
        "        train_accuracy += accuracy_score(y.cpu().numpy(), y_pred.detach().cpu().numpy())*X.size(0) # compute accuracy\n",
        "        # perform a step of gradient descent\n",
        "        optimizer.step()\n",
        "        #print('train_loss: ',train_loss,'train_accuracy: ',train_accuracy)\n",
        "        # if run_in_batch == 9:\n",
        "        #   print('train_loss: ',train_loss,'train_accuracy: ',train_accuracy)\n",
        "        #   break\n",
        "        run_in_batch += 1\n",
        "    print('train_loss: ',train_loss,'train_accuracy: ',train_accuracy)\n",
        "    return train_loss/len(data_loader.dataset), train_accuracy/len(data_loader.dataset)  # here we can average over the whole dataset"
      ],
      "execution_count": 52,
      "outputs": []
    },
    {
      "cell_type": "code",
      "metadata": {
        "id": "TnDlBIDAe2jF",
        "colab": {
          "base_uri": "https://localhost:8080/"
        },
        "outputId": "4c216cf3-acb3-43ec-8940-18b887cb1aef"
      },
      "source": [
        "train_loss, train_accuracy = train(model, optimizer, criterion, data)"
      ],
      "execution_count": 55,
      "outputs": [
        {
          "output_type": "stream",
          "text": [
            "train_loss:  tensor(55009.4531, device='cuda:0', grad_fn=<AddBackward0>) train_accuracy:  47142.0\n"
          ],
          "name": "stdout"
        }
      ]
    },
    {
      "cell_type": "code",
      "metadata": {
        "id": "A_vjvAWcPZVZ"
      },
      "source": [
        "for epoch in range(n_epochs):\n",
        "    logs = {}\n",
        "    train_loss, train_accuracy = train(model, optimizer, criterion, data)\n",
        "\n",
        "    logs['log loss'] = train_loss.item()\n",
        "    logs['accuracy'] = train_accuracy.item()\n",
        "\n",
        "    # test_loss, test_accuracy = validate(model, criterion, test_loader)\n",
        "    # logs['val_' + 'log loss'] = test_loss.item()\n",
        "    # logs['val_' + 'accuracy'] = test_accuracy.item()\n",
        "\n",
        "    liveloss.update(logs)\n",
        "    liveloss.draw()\n",
        "\n",
        "print(\"Avg. Loss: %1.3f\" % train_loss.item(), \" Avg. Accuracy: %1.3f\" % train_accuracy.item())\n",
        "print(\"\")"
      ],
      "execution_count": null,
      "outputs": []
    },
    {
      "cell_type": "code",
      "metadata": {
        "colab": {
          "base_uri": "https://localhost:8080/"
        },
        "id": "2OF1KyRBWGp9",
        "outputId": "86ce3fce-eb17-4c3b-ef87-81ea9df7297d"
      },
      "source": [
        "print(\"Model's state_dict:\")\n",
        "layers_num = -1\n",
        "layer_size = []\n",
        "for param_tensor in model.state_dict():\n",
        "    layers_num += 1\n",
        "    layer_size.append(list(model.state_dict()[param_tensor].size()))\n",
        "    print(param_tensor, \"\\t\", model.state_dict()[param_tensor].size())"
      ],
      "execution_count": 25,
      "outputs": [
        {
          "output_type": "stream",
          "text": [
            "Model's state_dict:\n",
            "hidden_1.weight \t torch.Size([25, 784])\n",
            "hidden_1.bias \t torch.Size([25])\n",
            "output.weight \t torch.Size([10, 25])\n",
            "output.bias \t torch.Size([10])\n"
          ],
          "name": "stdout"
        }
      ]
    },
    {
      "cell_type": "code",
      "metadata": {
        "id": "JaIRjwEpWyv_"
      },
      "source": [
        "iter= 200 #iteration time for calculation of WB\n",
        "epsilon = 0.05 #test for choosing\n",
        "epochs = 1 #epoches number for train network"
      ],
      "execution_count": 21,
      "outputs": []
    },
    {
      "cell_type": "code",
      "metadata": {
        "id": "KyVQxQE-W3HT"
      },
      "source": [
        "def get_grad_from_this_batch(total_layer_size,which_batch,which_label,which_layer):\n",
        "    this_layer_part_grad = torch.zeros((total_layer_size[which_layer][0], total_layer_size[which_layer][1], batch_size)).to(device)\n",
        "    sample_num = 0\n",
        "    for sample, y in zip(which_batch, which_label):\n",
        "        # for param in model.parameters():\n",
        "        #     param.grad = None\n",
        "        a2 = model(sample.view(-1, 28*28))\n",
        "        #print(a2.shape,y.shape)  \n",
        "        loss = criterion(a2, y)\n",
        "        #print('loss is',loss)  \n",
        "        loss.backward()  # Back-propagate\n",
        "        # train_loss += loss*X.size(0)\n",
        "        # y_pred = F.log_softmax(a2, dim=1).max(1)[1]\n",
        "        # train_accuracy += accuracy_score(y.cpu().numpy(), y_pred.detach().cpu().numpy())*X.size(0)\n",
        "        this_layer = -1\n",
        "        for param in model.parameters():\n",
        "            this_layer += 1\n",
        "            if this_layer == which_layer:\n",
        "                #print('param.grad is', param.grad)\n",
        "                this_layer_part_grad[:, :, sample_num] = param.grad.detach().clone()\n",
        "        sample_num += 1\n",
        "    return this_layer_part_grad\n",
        "def get_positive_grads(input_grad):\n",
        "    abs_global_min = torch.abs(torch.min(input_grad)).item()\n",
        "    input_grad = input_grad + torch.abs(torch.min(input_grad)).item()\n",
        "    return input_grad, abs_global_min\n",
        "def Wasserstein_barycentre_even(total_layer_size, which_layer, iter, samples_num, input_grad):\n",
        "    t0 = np.linspace(0, 1, total_layer_size[which_layer][0])\n",
        "    [Y0, X0] = np.meshgrid(t0, t0)\n",
        "    K0 = np.exp(-(X0 - Y0) ** 2 / epsilon)\n",
        "    K0 = torch.from_numpy(K0).type(torch.FloatTensor).to(device)\n",
        "    t1 = np.linspace(0, 1, total_layer_size[which_layer][1])\n",
        "    [Y1, X1] = np.meshgrid(t1, t1)\n",
        "    K1 = np.exp(-(X1 - Y1) ** 2 / epsilon)\n",
        "    K1 = torch.from_numpy(K1).type(torch.FloatTensor).to(device)\n",
        "    K = lambda x: (K0 @ x) @ K1\n",
        "    v = torch.ones((total_layer_size[which_layer][0], total_layer_size[which_layer][1], samples_num)).to(device)\n",
        "    u = torch.ones((total_layer_size[which_layer][0], total_layer_size[which_layer][1], samples_num)).to(device)\n",
        "    Err_q = torch.zeros(iter).to(device)\n",
        "    lambd = torch.ones(samples_num) / samples_num\n",
        "    lambd = lambd.to(device)\n",
        "    for i in range(iter):\n",
        "\n",
        "        for k in range(samples_num):\n",
        "            Err_q[i] = Err_q[i] + torch.norm(u[:, :, k] * K(v[:, :, k]) - input_grad[:,:,k], p=1)\n",
        "            u[:, :, k] = input_grad[:,:,k] / K(v[:, :, k])\n",
        "\n",
        "        b = torch.zeros((total_layer_size[which_layer][0], total_layer_size[which_layer][1])).to(device)\n",
        "        for k in range(samples_num):\n",
        "            b = b + lambd[k] * torch.log(torch.maximum(1e-19 * torch.ones(np.shape(v[:, :, k])).to(device), v[:, :, k] * K(u[:, :, k])))\n",
        "        b = torch.exp(b)\n",
        "\n",
        "        for k in range(samples_num):\n",
        "            v[:, :, k] = b / K(u[:, :, k])\n",
        "    return b\n",
        "def assign_back_layer(model, input_grads, which_layer, lr=0.001):\n",
        "    this_layer = -1\n",
        "    for param in model.parameters():\n",
        "      this_layer = this_layer+1\n",
        "      if this_layer == which_layer:\n",
        "          #print('before ', param)\n",
        "          param = param + lr * input_grads\n",
        "          #print('after ', param)\n",
        "    return None"
      ],
      "execution_count": 22,
      "outputs": []
    },
    {
      "cell_type": "code",
      "metadata": {
        "id": "o8gI5gzaXBIu"
      },
      "source": [
        "def train(model,data,layers_num,batch_size, epochs):\n",
        "    # optimizer is WB used in SGD\n",
        "    model.train()\n",
        "    train_loss_ = []\n",
        "    train_acc_ = []\n",
        "    for epoch in range(epochs):# Run data over numerous epochs\n",
        "        print('this is ',epoch,'epoch')\n",
        "        train_loss, train_accuracy = 0, 0\n",
        "        run_in_batch = 0\n",
        "        for batch, label in data:# Iterate over the batches of images and labels\n",
        "            batch, label = batch.to(device), label.to(device)\n",
        "            a2 = model(batch.view(-1, 28*28))\n",
        "            loss = criterion(a2, label)\n",
        "            train_loss += loss*batch.size(0)\n",
        "            label = torch.reshape(label,shape=(len(batch),1))\n",
        "            y_pred = F.log_softmax(a2, dim=1).max(1)[1]\n",
        "            train_accuracy += accuracy_score(label.cpu().numpy(), y_pred.detach().cpu().numpy())*len(batch)\n",
        "            \n",
        "            \n",
        "            #分层计算(仅weights)\n",
        "            for i in range(0, layers_num, 2): #两次\n",
        "              this_batch_layer_grad = get_grad_from_this_batch(layer_size,batch,label,i)#本batch 的local gradients的集合\n",
        "              # 放弃将weights和baise和在一起了\n",
        "              this_batch_layer_grad, abs_global_min = get_positive_grads(this_batch_layer_grad)\n",
        "              #print(abs_global_min)  # 将gards变成正的\n",
        "              # if i == 2:#打印第2层的grads\n",
        "              #   print(\"thisbatchlayergrad in layer\",i,\" for sample\", batch_size-1)\n",
        "              #   this_batch_layer_cpu = this_batch_layer_grad.cpu().detach().numpy().copy()\n",
        "              #   plt.figure(figsize=(10,10))\n",
        "              #   im = plt.imshow(this_batch_layer_cpu[:,:,batch_size-1], cmap='seismic')\n",
        "              #   plt.colorbar(im,fraction=0.044, pad=0.1)\n",
        "              #   plt.title(\"$thisbatchlayergrad$\")\n",
        "              #   plt.axis('off');\n",
        "              WB_in_this_batch = Wasserstein_barycentre_even(layer_size, i, iter, batch_size, this_batch_layer_grad)  # 得到WB\n",
        "              # if i == 2:\n",
        "              #   WB_in_this_batch_cpu = WB_in_this_batch.cpu().detach().numpy().copy()\n",
        "              #   print(\"WBinthisbatch in layer\",i,\" for\", batch_size, \"samples\")\n",
        "              #   plt.figure(figsize=(10,10))\n",
        "              #   plt.imshow(WB_in_this_batch_cpu, cmap='seismic')\n",
        "              #   plt.colorbar(im,fraction=0.044, pad=0.1)\n",
        "              #   plt.title(\"$WBinthisbatch$\")\n",
        "              #   plt.axis('off');\n",
        "            #break\n",
        "              #free the memory\n",
        "              this_batch_layer_grad = this_batch_layer_grad.cpu()\n",
        "              torch.cuda.empty_cache()\n",
        "              WB_in_this_batch = WB_in_this_batch - abs_global_min  # 将new_global_grad恢复为原来数值\n",
        "              assign_back_layer(model, WB_in_this_batch, i)  # 将new_global_grad放回去更新参数\n",
        "              #free the memory of this\n",
        "              WB_in_this_batch = WB_in_this_batch.cpu()\n",
        "              torch.cuda.empty_cache()\n",
        "            #print(\"current run in batch \", run_in_batch)\n",
        "            run_in_batch += 1\n",
        "            #break\n",
        "            print(\"acc\",train_accuracy/data_size)\n",
        "        train_acc_.append(train_accuracy/data_size)\n",
        "        train_loss_.append(train_loss/data_size)\n",
        "    return train_loss_, train_acc_"
      ],
      "execution_count": null,
      "outputs": []
    },
    {
      "cell_type": "code",
      "metadata": {
        "id": "TgkehU_lXEtv"
      },
      "source": [
        "a, b = train(model, data, layers_num,batch_size,epochs)"
      ],
      "execution_count": null,
      "outputs": []
    },
    {
      "cell_type": "code",
      "metadata": {
        "colab": {
          "base_uri": "https://localhost:8080/"
        },
        "id": "DScdGlYDEsdY",
        "outputId": "7964c8ea-2671-44f2-e81e-3fea145802fd"
      },
      "source": [
        "print(b)"
      ],
      "execution_count": null,
      "outputs": [
        {
          "output_type": "stream",
          "text": [
            "[0.09743136993603412, 0.09743136993603412]\n"
          ],
          "name": "stdout"
        }
      ]
    },
    {
      "cell_type": "markdown",
      "metadata": {
        "id": "3ofVVUQOBkFj"
      },
      "source": [
        "separate into small parts to validation the calculation"
      ]
    },
    {
      "cell_type": "code",
      "metadata": {
        "id": "fdyPrcr245ew"
      },
      "source": [
        "def Wasserstein_barycentre_even(epsilon,total_layer_size, which_layer, iter, samples_num, input_grad):\n",
        "    t0 = np.linspace(0, 1, total_layer_size[which_layer][0])\n",
        "    [Y0, X0] = np.meshgrid(t0, t0)\n",
        "    K0 = np.exp(-(X0 - Y0) ** 2 / epsilon)\n",
        "    K0 = torch.from_numpy(K0).type(torch.FloatTensor).to(device)\n",
        "    t1 = np.linspace(0, 1, total_layer_size[which_layer][1])\n",
        "    [Y1, X1] = np.meshgrid(t1, t1)\n",
        "    K1 = np.exp(-(X1 - Y1) ** 2 / epsilon)\n",
        "    K1 = torch.from_numpy(K1).type(torch.FloatTensor).to(device)\n",
        "    K = lambda x: (K0 @ x) @ K1\n",
        "    v = torch.ones((total_layer_size[which_layer][0], total_layer_size[which_layer][1], samples_num)).to(device)\n",
        "    u = torch.ones((total_layer_size[which_layer][0], total_layer_size[which_layer][1], samples_num)).to(device)\n",
        "    Err_q = torch.zeros(iter).to(device)\n",
        "    lambd = torch.ones(samples_num) / samples_num\n",
        "    lambd = lambd.to(device)\n",
        "    for i in range(iter):\n",
        "\n",
        "        for k in range(samples_num):\n",
        "            Err_q[i] = Err_q[i] + torch.norm(u[:, :, k] * K(v[:, :, k]) - input_grad[:,:,k], p=1)\n",
        "            u[:, :, k] = input_grad[:,:,k] / K(v[:, :, k])\n",
        "\n",
        "        b = torch.zeros((total_layer_size[which_layer][0], total_layer_size[which_layer][1])).to(device)\n",
        "        for k in range(samples_num):\n",
        "            b = b + lambd[k] * torch.log(torch.maximum(1e-19 * torch.ones(np.shape(v[:, :, k])).to(device), v[:, :, k] * K(u[:, :, k])))\n",
        "        b = torch.exp(b)\n",
        "\n",
        "        for k in range(samples_num):\n",
        "            v[:, :, k] = b / K(u[:, :, k])\n",
        "    Err_q_cpu = Err_q.cpu().detach().numpy().copy()\n",
        "    #plt.figure(figsize=(7,5))\n",
        "    plt.plot(np.log(Err_q_cpu), label='$\\epsilon=$' + str(epsilon))\n",
        "    plt.legend();\n",
        "\n",
        "    return b"
      ],
      "execution_count": null,
      "outputs": []
    },
    {
      "cell_type": "code",
      "metadata": {
        "id": "Gj-0AyPX4qe5"
      },
      "source": [
        "def get_epsilon(model,data,layers_num,batch_size, epsilon, epochs):\n",
        "    # optimizer is WB used in SGD\n",
        "    for epoch in range(epochs):# Run data over numerous epochs\n",
        "        print('this is ',epoch,'epoch')\n",
        "        train_loss, train_accuracy = 0, 0\n",
        "        run_in_batch = 0\n",
        "        for batch, label in data:# Iterate over the batches of images and labels\n",
        "            batch, label = batch.to(device), label.to(device)\n",
        "            label = torch.reshape(label,shape=(len(batch),1))\n",
        "            #分层计算(仅weights)\n",
        "            for i in range(0, layers_num, 2): #两次\n",
        "              this_batch_layer_grad = get_grad_from_this_batch(layer_size,batch,label,i)#本batch 的local gradients的集合\n",
        "              # 放弃将weights和baise和在一起了\n",
        "              this_batch_layer_grad, abs_global_min = get_positive_grads(this_batch_layer_grad)\n",
        "              #print(abs_global_min)  # 将gards变成正的\n",
        "              # if i == 2:#打印第2层的grads\n",
        "              #   print(\"thisbatchlayergrad in layer\",i,\" for sample\", batch_size-1)\n",
        "              #   this_batch_layer_cpu = this_batch_layer_grad.cpu().detach().numpy().copy()\n",
        "              #   plt.figure(figsize=(10,10))\n",
        "              #   im = plt.imshow(this_batch_layer_cpu[:,:,batch_size-1], cmap='seismic')\n",
        "              #   plt.colorbar(im,fraction=0.044, pad=0.1)\n",
        "              #   plt.title(\"$thisbatchlayergrad$\")\n",
        "              #   plt.axis('off');\n",
        "              \n",
        "              WB_in_this_batch= Wasserstein_barycentre_even(epsilon,layer_size, i, iter, batch_size, this_batch_layer_grad)  # 得到WB\n",
        "\n",
        "              # if i == 2:\n",
        "              #   WB_in_this_batch_cpu = WB_in_this_batch.cpu().detach().numpy().copy()\n",
        "              #   print(\"WBinthisbatch in layer\",i,\" for\", batch_size, \"samples\")\n",
        "              #   plt.figure(figsize=(10,10))\n",
        "              #   im = plt.imshow(WB_in_this_batch_cpu, cmap='seismic')\n",
        "              #   plt.colorbar(im,fraction=0.044, pad=0.1)\n",
        "              #   plt.title(\"$WBinthisbatch$\")\n",
        "              #   plt.axis('off');\n",
        "            break\n",
        "    return None"
      ],
      "execution_count": null,
      "outputs": []
    },
    {
      "cell_type": "code",
      "metadata": {
        "colab": {
          "base_uri": "https://localhost:8080/",
          "height": 319
        },
        "id": "ycYgnMzBB2g6",
        "outputId": "24dff223-5036-414c-acd6-4f38a041afe8"
      },
      "source": [
        "for epsilon in (.1, .05, .01,):\n",
        "  get_epsilon(model, data, layers_num,batch_size,epsilon,epochs)\n"
      ],
      "execution_count": null,
      "outputs": [
        {
          "output_type": "stream",
          "text": [
            "this is  0 epoch\n",
            "this is  0 epoch\n",
            "this is  0 epoch\n"
          ],
          "name": "stdout"
        },
        {
          "output_type": "display_data",
          "data": {
            "image/png": "[encoded data removed]",
            "text/plain": [
              "<Figure size 432x288 with 1 Axes>"
            ]
          },
          "metadata": {
            "tags": [],
            "needs_background": "light"
          }
        }
      ]
    },
    {
      "cell_type": "code",
      "metadata": {
        "colab": {
          "base_uri": "https://localhost:8080/",
          "height": 283
        },
        "id": "1xD9GQhTHHT1",
        "outputId": "b44a7584-29dc-4054-f0e2-5ee09540bb31"
      },
      "source": [
        "get_epsilon(model, data, layers_num,batch_size,epsilon=0.05,epochs=1)"
      ],
      "execution_count": null,
      "outputs": [
        {
          "output_type": "stream",
          "text": [
            "this is  0 epoch\n"
          ],
          "name": "stdout"
        },
        {
          "output_type": "display_data",
          "data": {
            "image/png": "[encoded data removed]",
            "text/plain": [
              "<Figure size 432x288 with 1 Axes>"
            ]
          },
          "metadata": {
            "tags": [],
            "needs_background": "light"
          }
        }
      ]
    },
    {
      "cell_type": "markdown",
      "metadata": {
        "id": "6GMffetEHmMN"
      },
      "source": [
        "choose epsilon equals to 0.05 iter 200 times"
      ]
    },
    {
      "cell_type": "markdown",
      "metadata": {
        "id": "3s3ev89_E7A0"
      },
      "source": [
        "train the network"
      ]
    },
    {
      "cell_type": "code",
      "metadata": {
        "id": "nPFFPvBFbFxd"
      },
      "source": [
        "def train_WB(model,data,layers_num,batch_size, epochs):\n",
        "    # optimizer is WB used in SGD\n",
        "    model.train()\n",
        "    train_loss, train_accuracy = 0, 0\n",
        "    run_in_batch = 0\n",
        "    for batch, label in data:  # Iterate over the batches of images and labels\n",
        "        batch, label = batch.to(device), label.to(device)\n",
        "        for param in model.parameters():\n",
        "          param.grad = None\n",
        "        a2 = model(batch.view(-1, 28 * 28))\n",
        "        loss = criterion(a2, label)\n",
        "        train_loss += loss * batch.size(0)\n",
        "        label = torch.reshape(label, shape=(len(batch), 1))\n",
        "        y_pred = F.log_softmax(a2, dim=1).max(1)[1]\n",
        "        train_accuracy += accuracy_score(label.cpu().numpy(), y_pred.detach().cpu().numpy()) * len(batch)\n",
        "        # 分层计算(仅weights)\n",
        "        for i in range(0, layers_num, 2):  # 两次\n",
        "            this_batch_layer_grad = get_grad_from_this_batch(layer_size, batch, label, i)  # 本batch 的local gradients的集合\n",
        "            # 放弃将weights和baise和在一起了\n",
        "            this_batch_layer_grad, abs_global_min = get_positive_grads(this_batch_layer_grad)\n",
        "            # print(abs_global_min)  # 将gards变成正的\n",
        "            # if i == 2:#打印第2层的grads\n",
        "            #   print(\"thisbatchlayergrad in layer\",i,\" for sample\", batch_size-1)\n",
        "            #   this_batch_layer_cpu = this_batch_layer_grad.cpu().detach().numpy().copy()\n",
        "            #   plt.figure(figsize=(10,10))\n",
        "            #   im = plt.imshow(this_batch_layer_cpu[:,:,batch_size-1], cmap='seismic')\n",
        "            #   plt.colorbar(im,fraction=0.044, pad=0.1)\n",
        "            #   plt.title(\"$thisbatchlayergrad$\")\n",
        "            #   plt.axis('off');\n",
        "            WB_in_this_batch = Wasserstein_barycentre_even(layer_size, i, iter, batch_size,\n",
        "                                                           this_batch_layer_grad)  # 得到WB\n",
        "            # if i == 2:\n",
        "            #   WB_in_this_batch_cpu = WB_in_this_batch.cpu().detach().numpy().copy()\n",
        "            #   print(\"WBinthisbatch in layer\",i,\" for\", batch_size, \"samples\")\n",
        "            #   plt.figure(figsize=(10,10))\n",
        "            #   plt.imshow(WB_in_this_batch_cpu, cmap='seismic')\n",
        "            #   plt.colorbar(im,fraction=0.044, pad=0.1)\n",
        "            #   plt.title(\"$WBinthisbatch$\")\n",
        "            #   plt.axis('off');\n",
        "            # break\n",
        "            # free the memory\n",
        "            # this_batch_layer_grad = this_batch_layer_grad.cpu()\n",
        "            # torch.cuda.empty_cache()\n",
        "            WB_in_this_batch = WB_in_this_batch - abs_global_min  # 将new_global_grad恢复为原来数值\n",
        "            assign_back_layer(model, WB_in_this_batch, i)  # 将new_global_grad放回去更新参数\n",
        "            # free the memory of this\n",
        "            # WB_in_this_batch = WB_in_this_batch.cpu()\n",
        "            # torch.cuda.empty_cache()\n",
        "        # print(\"current run in batch \", run_in_batch)\n",
        "        # print('train_loss: ',train_loss,'train_accuracy: ',train_accuracy)\n",
        "        # if run_in_batch ==9:\n",
        "        #   break\n",
        "        run_in_batch += 1\n",
        "        # break\n",
        "    print('train_loss: ',train_loss,'train_accuracy: ',train_accuracy)    \n",
        "  \n",
        "    return train_loss_, train_acc_"
      ],
      "execution_count": 57,
      "outputs": []
    },
    {
      "cell_type": "code",
      "metadata": {
        "colab": {
          "base_uri": "https://localhost:8080/"
        },
        "id": "SgQwocPWbZh8",
        "outputId": "6baf3cae-f3ca-4030-bdbf-1b83ebab54da"
      },
      "source": [
        "train_loss_ = []\n",
        "train_acc_ = []\n",
        "train_loss_, train_acc_ = train_WB(model, data, layers_num,batch_size,epochs)\n",
        "# plt.plot(train_loss_)\n",
        "# plt.plot(train_acc_)"
      ],
      "execution_count": 58,
      "outputs": [
        {
          "output_type": "stream",
          "text": [
            "train_loss:  tensor(138597.5000, device='cuda:0', grad_fn=<AddBackward0>) train_accuracy:  5849.0\n"
          ],
          "name": "stdout"
        }
      ]
    },
    {
      "cell_type": "code",
      "metadata": {
        "id": "0LtK7S_UE-6o"
      },
      "source": [
        "train_loss_ = []\n",
        "train_acc_ = []\n",
        "\n",
        "  train_loss, train_accuracy = train(model, data, layers_num,batch_size,epochs)\n",
        "  train_loss_.append(train_loss)\n",
        "  train_acc_.append(train_accuracy)\n",
        "plt.plot(train_loss_)\n",
        "plt.plot(train_acc_)"
      ],
      "execution_count": null,
      "outputs": []
    }
  ]
}